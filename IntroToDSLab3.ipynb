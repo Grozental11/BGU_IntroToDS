{
  "nbformat": 4,
  "nbformat_minor": 0,
  "metadata": {
    "colab": {
      "provenance": [],
      "include_colab_link": true
    },
    "kernelspec": {
      "name": "python3",
      "display_name": "Python 3"
    },
    "language_info": {
      "name": "python"
    }
  },
  "cells": [
    {
      "cell_type": "markdown",
      "metadata": {
        "id": "view-in-github",
        "colab_type": "text"
      },
      "source": [
        "<a href=\"https://colab.research.google.com/github/Grozental11/BGU_IntroToDS/blob/main/IntroToDSLab3.ipynb\" target=\"_parent\"><img src=\"https://colab.research.google.com/assets/colab-badge.svg\" alt=\"Open In Colab\"/></a>"
      ]
    },
    {
      "cell_type": "code",
      "source": [
        "import json\n",
        "import os\n",
        "\n",
        "!pip install kaggle\n",
        "\n",
        "api_token = {\"username\":\"grozental\",\"key\":\"54907d9041ac43e8165000d5df2f2f86\"}\n",
        "\n",
        "\n",
        "!mkdir /root/.kaggle\n",
        "with open('/root/.kaggle/kaggle.json', 'w') as file:\n",
        "  json.dump(api_token, file)\n",
        "!chmod 600 /root/.kaggle/kaggle.json"
      ],
      "metadata": {
        "id": "3CC7umDMOoiO"
      },
      "execution_count": null,
      "outputs": []
    },
    {
      "cell_type": "markdown",
      "source": [
        "# Part 1 - ATP_Tennis"
      ],
      "metadata": {
        "id": "RkQVgQv3pT_b"
      }
    },
    {
      "cell_type": "code",
      "source": [
        "!kaggle datasets download -d guillemservera/tennis\n",
        "!unzip tennis.zip -d ./database"
      ],
      "metadata": {
        "id": "h-4pQfs3OZgN"
      },
      "execution_count": null,
      "outputs": []
    },
    {
      "cell_type": "code",
      "execution_count": null,
      "metadata": {
        "id": "h0cd1HZz-728"
      },
      "outputs": [],
      "source": [
        "%load_ext sql"
      ]
    },
    {
      "cell_type": "code",
      "source": [
        "%sql sqlite:///database/database.sqlite"
      ],
      "metadata": {
        "id": "dPPXiJbxRySE"
      },
      "execution_count": null,
      "outputs": []
    },
    {
      "cell_type": "code",
      "source": [
        "##Q1\n",
        "%%sql\n",
        "SELECT ioc, COUNT(*) AS number_of_players\n",
        "FROM players\n",
        "GROUP BY ioc ORDER BY number_of_players DESC\n",
        "LIMIT 5"
      ],
      "metadata": {
        "id": "Ycb10KaP1KKr",
        "colab": {
          "base_uri": "https://localhost:8080/",
          "height": 179
        },
        "outputId": "ba55aee9-e502-4825-d0c0-ffc682f4cbce"
      },
      "execution_count": null,
      "outputs": [
        {
          "output_type": "stream",
          "name": "stdout",
          "text": [
            " * sqlite:///database/database.sqlite\n",
            "Done.\n"
          ]
        },
        {
          "output_type": "execute_result",
          "data": {
            "text/plain": [
              "[('USA', 13074), ('AUS', 3259), ('GBR', 3189), ('ESP', 3017), ('GER', 2669)]"
            ],
            "text/html": [
              "<table>\n",
              "    <thead>\n",
              "        <tr>\n",
              "            <th>ioc</th>\n",
              "            <th>number_of_players</th>\n",
              "        </tr>\n",
              "    </thead>\n",
              "    <tbody>\n",
              "        <tr>\n",
              "            <td>USA</td>\n",
              "            <td>13074</td>\n",
              "        </tr>\n",
              "        <tr>\n",
              "            <td>AUS</td>\n",
              "            <td>3259</td>\n",
              "        </tr>\n",
              "        <tr>\n",
              "            <td>GBR</td>\n",
              "            <td>3189</td>\n",
              "        </tr>\n",
              "        <tr>\n",
              "            <td>ESP</td>\n",
              "            <td>3017</td>\n",
              "        </tr>\n",
              "        <tr>\n",
              "            <td>GER</td>\n",
              "            <td>2669</td>\n",
              "        </tr>\n",
              "    </tbody>\n",
              "</table>"
            ]
          },
          "metadata": {},
          "execution_count": 5
        }
      ]
    },
    {
      "cell_type": "code",
      "source": [
        "##Q2\n",
        "%%sql\n",
        "SELECT *\n",
        "FROM players\n",
        "WHERE name_last LIKE 'SON%'\n",
        "LIMIT 5"
      ],
      "metadata": {
        "colab": {
          "base_uri": "https://localhost:8080/",
          "height": 179
        },
        "id": "798EtjFXr9Ui",
        "outputId": "6236afb0-ade3-43de-da20-8e03bf2f1b67"
      },
      "execution_count": null,
      "outputs": [
        {
          "output_type": "stream",
          "name": "stdout",
          "text": [
            " * sqlite:///database/database.sqlite\n",
            "Done.\n"
          ]
        },
        {
          "output_type": "execute_result",
          "data": {
            "text/plain": [
              "[(100853, 'Dong Wook', 'Song', 'L', 19620820.0, 'KOR', 175.0, 'Q7560983'),\n",
              " (102454, 'Hyeong Keun', 'Song', 'R', 19740916.0, 'KOR', None, None),\n",
              " (103001, 'Gavin', 'Sontag', 'U', 19770610.0, 'USA', None, 'Q55314934'),\n",
              " (105621, 'Min Kyu', 'Song', 'U', 19900825.0, 'KOR', None, 'Q55397069'),\n",
              " (111729, 'Shan', 'Sondhu', 'U', 19880117.0, 'USA', None, None)]"
            ],
            "text/html": [
              "<table>\n",
              "    <thead>\n",
              "        <tr>\n",
              "            <th>player_id</th>\n",
              "            <th>name_first</th>\n",
              "            <th>name_last</th>\n",
              "            <th>hand</th>\n",
              "            <th>dob</th>\n",
              "            <th>ioc</th>\n",
              "            <th>height</th>\n",
              "            <th>wikidata_id</th>\n",
              "        </tr>\n",
              "    </thead>\n",
              "    <tbody>\n",
              "        <tr>\n",
              "            <td>100853</td>\n",
              "            <td>Dong Wook</td>\n",
              "            <td>Song</td>\n",
              "            <td>L</td>\n",
              "            <td>19620820.0</td>\n",
              "            <td>KOR</td>\n",
              "            <td>175.0</td>\n",
              "            <td>Q7560983</td>\n",
              "        </tr>\n",
              "        <tr>\n",
              "            <td>102454</td>\n",
              "            <td>Hyeong Keun</td>\n",
              "            <td>Song</td>\n",
              "            <td>R</td>\n",
              "            <td>19740916.0</td>\n",
              "            <td>KOR</td>\n",
              "            <td>None</td>\n",
              "            <td>None</td>\n",
              "        </tr>\n",
              "        <tr>\n",
              "            <td>103001</td>\n",
              "            <td>Gavin</td>\n",
              "            <td>Sontag</td>\n",
              "            <td>U</td>\n",
              "            <td>19770610.0</td>\n",
              "            <td>USA</td>\n",
              "            <td>None</td>\n",
              "            <td>Q55314934</td>\n",
              "        </tr>\n",
              "        <tr>\n",
              "            <td>105621</td>\n",
              "            <td>Min Kyu</td>\n",
              "            <td>Song</td>\n",
              "            <td>U</td>\n",
              "            <td>19900825.0</td>\n",
              "            <td>KOR</td>\n",
              "            <td>None</td>\n",
              "            <td>Q55397069</td>\n",
              "        </tr>\n",
              "        <tr>\n",
              "            <td>111729</td>\n",
              "            <td>Shan</td>\n",
              "            <td>Sondhu</td>\n",
              "            <td>U</td>\n",
              "            <td>19880117.0</td>\n",
              "            <td>USA</td>\n",
              "            <td>None</td>\n",
              "            <td>None</td>\n",
              "        </tr>\n",
              "    </tbody>\n",
              "</table>"
            ]
          },
          "metadata": {},
          "execution_count": 6
        }
      ]
    },
    {
      "cell_type": "code",
      "source": [
        "##Q3\n",
        "%%sql\n",
        "SELECT p.name_first, p.name_last\n",
        "FROM players p LEFT JOIN (SELECT loser_id, COUNT(*) as loss_count FROM matches GROUP BY loser_id) l ON p.player_id = l.loser_id\n",
        "WHERE IFNULL(l.loss_count, 0) < 2\n",
        "LIMIT 5"
      ],
      "metadata": {
        "colab": {
          "base_uri": "https://localhost:8080/",
          "height": 179
        },
        "id": "WOWl90kssH-8",
        "outputId": "6217d5f6-bc95-4bc9-b00d-22459e608bac"
      },
      "execution_count": null,
      "outputs": [
        {
          "output_type": "stream",
          "name": "stdout",
          "text": [
            " * sqlite:///database/database.sqlite\n",
            "Done.\n"
          ]
        },
        {
          "output_type": "execute_result",
          "data": {
            "text/plain": [
              "[('Zdenek', 'Slizek'),\n",
              " ('George', 'Glowa'),\n",
              " ('Ulises', 'Quezada'),\n",
              " ('Chiraid', 'Mukherjea'),\n",
              " ('David', 'Parker')]"
            ],
            "text/html": [
              "<table>\n",
              "    <thead>\n",
              "        <tr>\n",
              "            <th>name_first</th>\n",
              "            <th>name_last</th>\n",
              "        </tr>\n",
              "    </thead>\n",
              "    <tbody>\n",
              "        <tr>\n",
              "            <td>Zdenek</td>\n",
              "            <td>Slizek</td>\n",
              "        </tr>\n",
              "        <tr>\n",
              "            <td>George</td>\n",
              "            <td>Glowa</td>\n",
              "        </tr>\n",
              "        <tr>\n",
              "            <td>Ulises</td>\n",
              "            <td>Quezada</td>\n",
              "        </tr>\n",
              "        <tr>\n",
              "            <td>Chiraid</td>\n",
              "            <td>Mukherjea</td>\n",
              "        </tr>\n",
              "        <tr>\n",
              "            <td>David</td>\n",
              "            <td>Parker</td>\n",
              "        </tr>\n",
              "    </tbody>\n",
              "</table>"
            ]
          },
          "metadata": {},
          "execution_count": 7
        }
      ]
    },
    {
      "cell_type": "code",
      "source": [
        "##Q4\n",
        "%%sql\n",
        "SELECT name_first, name_last\n",
        "FROM players\n",
        "WHERE player_id IN (SELECT player FROM rankings WHERE points > (SELECT AVG(points) FROM rankings))\n",
        "LIMIT 5"
      ],
      "metadata": {
        "colab": {
          "base_uri": "https://localhost:8080/",
          "height": 179
        },
        "id": "Z40McapVsZto",
        "outputId": "8b414785-434d-4f92-c5b0-576a651eb1e7"
      },
      "execution_count": null,
      "outputs": [
        {
          "output_type": "stream",
          "name": "stdout",
          "text": [
            " * sqlite:///database/database.sqlite\n",
            "Done.\n"
          ]
        },
        {
          "output_type": "execute_result",
          "data": {
            "text/plain": [
              "[('Jimmy', 'Connors'),\n",
              " ('Kevin', 'Curren'),\n",
              " ('Johan', 'Kriek'),\n",
              " ('Fernando', 'Luna'),\n",
              " ('Brad', 'Drewett')]"
            ],
            "text/html": [
              "<table>\n",
              "    <thead>\n",
              "        <tr>\n",
              "            <th>name_first</th>\n",
              "            <th>name_last</th>\n",
              "        </tr>\n",
              "    </thead>\n",
              "    <tbody>\n",
              "        <tr>\n",
              "            <td>Jimmy</td>\n",
              "            <td>Connors</td>\n",
              "        </tr>\n",
              "        <tr>\n",
              "            <td>Kevin</td>\n",
              "            <td>Curren</td>\n",
              "        </tr>\n",
              "        <tr>\n",
              "            <td>Johan</td>\n",
              "            <td>Kriek</td>\n",
              "        </tr>\n",
              "        <tr>\n",
              "            <td>Fernando</td>\n",
              "            <td>Luna</td>\n",
              "        </tr>\n",
              "        <tr>\n",
              "            <td>Brad</td>\n",
              "            <td>Drewett</td>\n",
              "        </tr>\n",
              "    </tbody>\n",
              "</table>"
            ]
          },
          "metadata": {},
          "execution_count": 8
        }
      ]
    },
    {
      "cell_type": "code",
      "source": [
        "##Q5\n",
        "%%sql\n",
        "SELECT hand, AVG(height) AS average_height\n",
        "FROM players\n",
        "GROUP BY hand"
      ],
      "metadata": {
        "colab": {
          "base_uri": "https://localhost:8080/",
          "height": 179
        },
        "id": "a3XLTUr9silP",
        "outputId": "ed773d25-38bc-4390-eefa-647a79bda55e"
      },
      "execution_count": null,
      "outputs": [
        {
          "output_type": "stream",
          "name": "stdout",
          "text": [
            " * sqlite:///database/database.sqlite\n",
            "Done.\n"
          ]
        },
        {
          "output_type": "execute_result",
          "data": {
            "text/plain": [
              "[(None, None),\n",
              " ('A', 180.25),\n",
              " ('L', 183.5611111111111),\n",
              " ('R', 183.82128013300084),\n",
              " ('U', 181.03571428571428)]"
            ],
            "text/html": [
              "<table>\n",
              "    <thead>\n",
              "        <tr>\n",
              "            <th>hand</th>\n",
              "            <th>average_height</th>\n",
              "        </tr>\n",
              "    </thead>\n",
              "    <tbody>\n",
              "        <tr>\n",
              "            <td>None</td>\n",
              "            <td>None</td>\n",
              "        </tr>\n",
              "        <tr>\n",
              "            <td>A</td>\n",
              "            <td>180.25</td>\n",
              "        </tr>\n",
              "        <tr>\n",
              "            <td>L</td>\n",
              "            <td>183.5611111111111</td>\n",
              "        </tr>\n",
              "        <tr>\n",
              "            <td>R</td>\n",
              "            <td>183.82128013300084</td>\n",
              "        </tr>\n",
              "        <tr>\n",
              "            <td>U</td>\n",
              "            <td>181.03571428571428</td>\n",
              "        </tr>\n",
              "    </tbody>\n",
              "</table>"
            ]
          },
          "metadata": {},
          "execution_count": 9
        }
      ]
    },
    {
      "cell_type": "code",
      "source": [
        "##Q6\n",
        "%%sql\n",
        "SELECT name_first, name_last, ioc\n",
        "FROM players\n",
        "WHERE player_id IN (SELECT player FROM rankings WHERE points > -1000)\n",
        "LIMIT 5"
      ],
      "metadata": {
        "colab": {
          "base_uri": "https://localhost:8080/",
          "height": 179
        },
        "id": "P8cOLhI0snM6",
        "outputId": "a89c8d78-f2d3-4cca-c1bd-c04f9a1f12ab"
      },
      "execution_count": null,
      "outputs": [
        {
          "output_type": "stream",
          "name": "stdout",
          "text": [
            " * sqlite:///database/database.sqlite\n",
            "Done.\n"
          ]
        },
        {
          "output_type": "execute_result",
          "data": {
            "text/plain": [
              "[('Wieslaw', 'Gasiorek', 'POL'),\n",
              " ('Jan', 'Kukal', 'CZE'),\n",
              " ('Jan', 'Kodes', 'CZE'),\n",
              " ('Toshiro', 'Sakai', 'JPN'),\n",
              " ('Jim', 'Ward', 'USA')]"
            ],
            "text/html": [
              "<table>\n",
              "    <thead>\n",
              "        <tr>\n",
              "            <th>name_first</th>\n",
              "            <th>name_last</th>\n",
              "            <th>ioc</th>\n",
              "        </tr>\n",
              "    </thead>\n",
              "    <tbody>\n",
              "        <tr>\n",
              "            <td>Wieslaw</td>\n",
              "            <td>Gasiorek</td>\n",
              "            <td>POL</td>\n",
              "        </tr>\n",
              "        <tr>\n",
              "            <td>Jan</td>\n",
              "            <td>Kukal</td>\n",
              "            <td>CZE</td>\n",
              "        </tr>\n",
              "        <tr>\n",
              "            <td>Jan</td>\n",
              "            <td>Kodes</td>\n",
              "            <td>CZE</td>\n",
              "        </tr>\n",
              "        <tr>\n",
              "            <td>Toshiro</td>\n",
              "            <td>Sakai</td>\n",
              "            <td>JPN</td>\n",
              "        </tr>\n",
              "        <tr>\n",
              "            <td>Jim</td>\n",
              "            <td>Ward</td>\n",
              "            <td>USA</td>\n",
              "        </tr>\n",
              "    </tbody>\n",
              "</table>"
            ]
          },
          "metadata": {},
          "execution_count": 10
        }
      ]
    },
    {
      "cell_type": "code",
      "source": [
        "##Q7\n",
        "%%sql\n",
        "SELECT ioc, AVG(points) AS average_rating\n",
        "FROM players p JOIN rankings r ON p.player_id = r.player\n",
        "GROUP BY ioc HAVING COUNT(p.player_id) > 10\n",
        "LIMIT 5"
      ],
      "metadata": {
        "colab": {
          "base_uri": "https://localhost:8080/",
          "height": 179
        },
        "id": "cZsItCtNsvGz",
        "outputId": "7f9221c1-03db-4d49-8b02-089f3d0560d0"
      },
      "execution_count": null,
      "outputs": [
        {
          "output_type": "stream",
          "name": "stdout",
          "text": [
            " * sqlite:///database/database.sqlite\n",
            "Done.\n"
          ]
        },
        {
          "output_type": "execute_result",
          "data": {
            "text/plain": [
              "[(None, 15.446428571428571),\n",
              " ('AHO', 24.6797583081571),\n",
              " ('ALG', 36.079569001243264),\n",
              " ('AND', 9.924768518518519),\n",
              " ('ANT', 4.778656126482214)]"
            ],
            "text/html": [
              "<table>\n",
              "    <thead>\n",
              "        <tr>\n",
              "            <th>ioc</th>\n",
              "            <th>average_rating</th>\n",
              "        </tr>\n",
              "    </thead>\n",
              "    <tbody>\n",
              "        <tr>\n",
              "            <td>None</td>\n",
              "            <td>15.446428571428571</td>\n",
              "        </tr>\n",
              "        <tr>\n",
              "            <td>AHO</td>\n",
              "            <td>24.6797583081571</td>\n",
              "        </tr>\n",
              "        <tr>\n",
              "            <td>ALG</td>\n",
              "            <td>36.079569001243264</td>\n",
              "        </tr>\n",
              "        <tr>\n",
              "            <td>AND</td>\n",
              "            <td>9.924768518518519</td>\n",
              "        </tr>\n",
              "        <tr>\n",
              "            <td>ANT</td>\n",
              "            <td>4.778656126482214</td>\n",
              "        </tr>\n",
              "    </tbody>\n",
              "</table>"
            ]
          },
          "metadata": {},
          "execution_count": 11
        }
      ]
    },
    {
      "cell_type": "code",
      "source": [
        "##Q8\n",
        "%%sql\n",
        "SELECT DISTINCT p1.name_first, p1.name_last\n",
        "FROM matches m JOIN players p1 ON m.winner_id = p1.player_id JOIN players p2 ON m.loser_id = p2.player_id\n",
        "WHERE p2.hand = 'L' INTERSECT SELECT DISTINCT p3.name_first, p3.name_last FROM matches m JOIN players p3 ON m.loser_id = p3.player_id JOIN players p4 ON m.winner_id = p4.player_id\n",
        "WHERE p4.hand = 'L'\n",
        "LIMIT 5"
      ],
      "metadata": {
        "colab": {
          "base_uri": "https://localhost:8080/",
          "height": 179
        },
        "id": "0Tiwgl0_s406",
        "outputId": "a7940480-8bec-4f53-a8db-678521db53db"
      },
      "execution_count": null,
      "outputs": [
        {
          "output_type": "stream",
          "name": "stdout",
          "text": [
            " * sqlite:///database/database.sqlite\n",
            "Done.\n"
          ]
        },
        {
          "output_type": "execute_result",
          "data": {
            "text/plain": [
              "[('Aaron', 'Addison'),\n",
              " ('Aaron', 'Cortes Alcaraz'),\n",
              " ('Aaron', 'Dujovne'),\n",
              " ('Aaron', 'Krickstein'),\n",
              " ('Aaron', 'Leeder Chard')]"
            ],
            "text/html": [
              "<table>\n",
              "    <thead>\n",
              "        <tr>\n",
              "            <th>name_first</th>\n",
              "            <th>name_last</th>\n",
              "        </tr>\n",
              "    </thead>\n",
              "    <tbody>\n",
              "        <tr>\n",
              "            <td>Aaron</td>\n",
              "            <td>Addison</td>\n",
              "        </tr>\n",
              "        <tr>\n",
              "            <td>Aaron</td>\n",
              "            <td>Cortes Alcaraz</td>\n",
              "        </tr>\n",
              "        <tr>\n",
              "            <td>Aaron</td>\n",
              "            <td>Dujovne</td>\n",
              "        </tr>\n",
              "        <tr>\n",
              "            <td>Aaron</td>\n",
              "            <td>Krickstein</td>\n",
              "        </tr>\n",
              "        <tr>\n",
              "            <td>Aaron</td>\n",
              "            <td>Leeder Chard</td>\n",
              "        </tr>\n",
              "    </tbody>\n",
              "</table>"
            ]
          },
          "metadata": {},
          "execution_count": 15
        }
      ]
    },
    {
      "cell_type": "markdown",
      "source": [
        "#Part 2 - POKEMONS"
      ],
      "metadata": {
        "id": "TRYskdjkWxpN"
      }
    },
    {
      "cell_type": "code",
      "source": [
        "!kaggle datasets download -d lrcusack/pokemontrainers\n",
        "!unzip pokemontrainers.zip -d ./database_1"
      ],
      "metadata": {
        "id": "oGlwkhrrMg8O",
        "colab": {
          "base_uri": "https://localhost:8080/"
        },
        "outputId": "b31b374b-dc41-4f37-c1ab-4fe529ba24ad"
      },
      "execution_count": null,
      "outputs": [
        {
          "output_type": "stream",
          "name": "stdout",
          "text": [
            "Downloading pokemontrainers.zip to /content\n",
            "100% 801k/801k [00:00<00:00, 1.68MB/s]\n",
            "100% 801k/801k [00:00<00:00, 1.68MB/s]\n",
            "Archive:  pokemontrainers.zip\n",
            "  inflating: ./database_1/database.sqlite  \n"
          ]
        }
      ]
    },
    {
      "cell_type": "code",
      "source": [
        "%sql sqlite:///database_1/database.sqlite"
      ],
      "metadata": {
        "id": "UFVrQrR8Mrn4"
      },
      "execution_count": null,
      "outputs": []
    },
    {
      "cell_type": "code",
      "source": [
        "##Q1\n",
        "%%sql\n",
        "SELECT DISTINCT Trainers.trainername, Pokemon.pokelevel\n",
        "FROM Pokemon\n",
        "JOIN Trainers ON Pokemon.trainerID = Trainers.trainerID\n",
        "WHERE Pokemon.pokelevel = (SELECT MAX(pokelevel) FROM Pokemon)\n",
        "LIMIT 5"
      ],
      "metadata": {
        "colab": {
          "base_uri": "https://localhost:8080/",
          "height": 196
        },
        "id": "xAHmXzS6uy-8",
        "outputId": "b76471bd-1179-493e-d3bb-583c6c260f36"
      },
      "execution_count": null,
      "outputs": [
        {
          "output_type": "stream",
          "name": "stdout",
          "text": [
            "   sqlite:///database/database.sqlite\n",
            " * sqlite:///database_1/database.sqlite\n",
            "Done.\n"
          ]
        },
        {
          "output_type": "execute_result",
          "data": {
            "text/plain": [
              "[('Cool♀', 100),\n",
              " ('Cool♂', 100),\n",
              " ('Cooltrainer♀ Floria', 100),\n",
              " ('Cooltrainer♂ Marty', 100),\n",
              " ('Cooltrainer♂ Forgon', 100)]"
            ],
            "text/html": [
              "<table>\n",
              "    <thead>\n",
              "        <tr>\n",
              "            <th>trainername</th>\n",
              "            <th>pokelevel</th>\n",
              "        </tr>\n",
              "    </thead>\n",
              "    <tbody>\n",
              "        <tr>\n",
              "            <td>Cool♀</td>\n",
              "            <td>100</td>\n",
              "        </tr>\n",
              "        <tr>\n",
              "            <td>Cool♂</td>\n",
              "            <td>100</td>\n",
              "        </tr>\n",
              "        <tr>\n",
              "            <td>Cooltrainer♀ Floria</td>\n",
              "            <td>100</td>\n",
              "        </tr>\n",
              "        <tr>\n",
              "            <td>Cooltrainer♂ Marty</td>\n",
              "            <td>100</td>\n",
              "        </tr>\n",
              "        <tr>\n",
              "            <td>Cooltrainer♂ Forgon</td>\n",
              "            <td>100</td>\n",
              "        </tr>\n",
              "    </tbody>\n",
              "</table>"
            ]
          },
          "metadata": {},
          "execution_count": 32
        }
      ]
    },
    {
      "cell_type": "code",
      "source": [
        "##Q2\n",
        "%%sql\n",
        "SELECT Pokemon.pokename, Trainers.trainername\n",
        "FROM Pokemon\n",
        "JOIN Trainers ON Pokemon.trainerID = Trainers.trainerID\n",
        "WHERE Pokemon.pokename LIKE '%p%' AND Trainers.trainername LIKE '%a%'\n",
        "LIMIT 5"
      ],
      "metadata": {
        "colab": {
          "base_uri": "https://localhost:8080/",
          "height": 196
        },
        "id": "06rLh0bSvOMo",
        "outputId": "050d9bf0-26ad-40a3-f548-8eb719f7a3b7"
      },
      "execution_count": null,
      "outputs": [
        {
          "output_type": "stream",
          "name": "stdout",
          "text": [
            "   sqlite:///database/database.sqlite\n",
            " * sqlite:///database_1/database.sqlite\n",
            "Done.\n"
          ]
        },
        {
          "output_type": "execute_result",
          "data": {
            "text/plain": [
              "[('Vileplume', 'Ace Duo Elina & Sean'),\n",
              " ('Weepinbell', 'Cooltrainer♀'),\n",
              " ('Persian', 'Cooltrainer♀'),\n",
              " ('Parasect', 'Cooltrainer♀'),\n",
              " ('Bellsprout', 'Cooltrainer♀')]"
            ],
            "text/html": [
              "<table>\n",
              "    <thead>\n",
              "        <tr>\n",
              "            <th>pokename</th>\n",
              "            <th>trainername</th>\n",
              "        </tr>\n",
              "    </thead>\n",
              "    <tbody>\n",
              "        <tr>\n",
              "            <td>Vileplume</td>\n",
              "            <td>Ace Duo Elina &amp; Sean</td>\n",
              "        </tr>\n",
              "        <tr>\n",
              "            <td>Weepinbell</td>\n",
              "            <td>Cooltrainer♀</td>\n",
              "        </tr>\n",
              "        <tr>\n",
              "            <td>Persian</td>\n",
              "            <td>Cooltrainer♀</td>\n",
              "        </tr>\n",
              "        <tr>\n",
              "            <td>Parasect</td>\n",
              "            <td>Cooltrainer♀</td>\n",
              "        </tr>\n",
              "        <tr>\n",
              "            <td>Bellsprout</td>\n",
              "            <td>Cooltrainer♀</td>\n",
              "        </tr>\n",
              "    </tbody>\n",
              "</table>"
            ]
          },
          "metadata": {},
          "execution_count": 20
        }
      ]
    },
    {
      "cell_type": "code",
      "source": [
        "##Q3\n",
        "%%sql\n",
        "SELECT Trainers.trainername, COUNT(Pokemon.trainerID) as num_pokemon\n",
        "FROM Pokemon\n",
        "JOIN Trainers ON Pokemon.trainerID = Trainers.trainerID\n",
        "GROUP BY Pokemon.trainerID\n",
        "ORDER BY num_pokemon DESC\n",
        "LIMIT 5"
      ],
      "metadata": {
        "colab": {
          "base_uri": "https://localhost:8080/",
          "height": 196
        },
        "id": "vg7O0SvSvSXG",
        "outputId": "96e391fb-a642-4bcc-a733-8857b5ab0686"
      },
      "execution_count": null,
      "outputs": [
        {
          "output_type": "stream",
          "name": "stdout",
          "text": [
            "   sqlite:///database/database.sqlite\n",
            " * sqlite:///database_1/database.sqlite\n",
            "Done.\n"
          ]
        },
        {
          "output_type": "execute_result",
          "data": {
            "text/plain": [
              "[('Youthful Couple River', 6),\n",
              " ('Youngster Wyatt', 6),\n",
              " ('Youngster Wyatt', 6),\n",
              " ('Youngster Wyatt', 6),\n",
              " ('Youngster Wyatt', 6)]"
            ],
            "text/html": [
              "<table>\n",
              "    <thead>\n",
              "        <tr>\n",
              "            <th>trainername</th>\n",
              "            <th>num_pokemon</th>\n",
              "        </tr>\n",
              "    </thead>\n",
              "    <tbody>\n",
              "        <tr>\n",
              "            <td>Youthful Couple River</td>\n",
              "            <td>6</td>\n",
              "        </tr>\n",
              "        <tr>\n",
              "            <td>Youngster Wyatt</td>\n",
              "            <td>6</td>\n",
              "        </tr>\n",
              "        <tr>\n",
              "            <td>Youngster Wyatt</td>\n",
              "            <td>6</td>\n",
              "        </tr>\n",
              "        <tr>\n",
              "            <td>Youngster Wyatt</td>\n",
              "            <td>6</td>\n",
              "        </tr>\n",
              "        <tr>\n",
              "            <td>Youngster Wyatt</td>\n",
              "            <td>6</td>\n",
              "        </tr>\n",
              "    </tbody>\n",
              "</table>"
            ]
          },
          "metadata": {},
          "execution_count": 23
        }
      ]
    },
    {
      "cell_type": "markdown",
      "source": [
        "# Part 3 - Titanic"
      ],
      "metadata": {
        "id": "qFN5Pq_O0TUk"
      }
    },
    {
      "cell_type": "code",
      "source": [
        "%sql sqlite:////content/titanic.db"
      ],
      "metadata": {
        "id": "h4B_efD81sUA"
      },
      "execution_count": null,
      "outputs": []
    },
    {
      "cell_type": "code",
      "source": [
        "%%sql\n",
        "select *\n",
        "from titanic\n",
        "limit 5"
      ],
      "metadata": {
        "id": "w59Qn6Ty12kR",
        "outputId": "399ab876-7bbb-4422-e18a-effe5c5aa97f",
        "colab": {
          "base_uri": "https://localhost:8080/",
          "height": 513
        }
      },
      "execution_count": null,
      "outputs": [
        {
          "output_type": "stream",
          "name": "stdout",
          "text": [
            " * sqlite:////content/titanic.db\n",
            "Done.\n"
          ]
        },
        {
          "output_type": "execute_result",
          "data": {
            "text/plain": [
              "[(1, 1, 'Allen, Miss. Elisabeth Walton', 'female', '29', 0, 0, '24160', 211.3375, 'B5', 'S', '2', None, 'St Louis, MO'),\n",
              " (1, 1, 'Allison, Master. Hudson Trevor', 'male', '0.9167', 1, 2, '113781', 151.55, 'C22 C26', 'S', '11', None, 'Montreal, PQ / Chesterville, ON'),\n",
              " (1, 0, 'Allison, Miss. Helen Loraine', 'female', '2', 1, 2, '113781', 151.55, 'C22 C26', 'S', None, None, 'Montreal, PQ / Chesterville, ON'),\n",
              " (1, 0, 'Allison, Mr. Hudson Joshua Creighton', 'male', '30', 1, 2, '113781', 151.55, 'C22 C26', 'S', None, '135', 'Montreal, PQ / Chesterville, ON'),\n",
              " (1, 0, 'Allison, Mrs. Hudson J C (Bessie Waldo Daniels)', 'female', '25', 1, 2, '113781', 151.55, 'C22 C26', 'S', None, None, 'Montreal, PQ / Chesterville, ON')]"
            ],
            "text/html": [
              "<table>\n",
              "    <thead>\n",
              "        <tr>\n",
              "            <th>pclass</th>\n",
              "            <th>survived</th>\n",
              "            <th>name</th>\n",
              "            <th>sex</th>\n",
              "            <th>age</th>\n",
              "            <th>sibsp</th>\n",
              "            <th>parch</th>\n",
              "            <th>ticket</th>\n",
              "            <th>fare</th>\n",
              "            <th>cabin</th>\n",
              "            <th>embarked</th>\n",
              "            <th>boat</th>\n",
              "            <th>body</th>\n",
              "            <th>home.dest</th>\n",
              "        </tr>\n",
              "    </thead>\n",
              "    <tbody>\n",
              "        <tr>\n",
              "            <td>1</td>\n",
              "            <td>1</td>\n",
              "            <td>Allen, Miss. Elisabeth Walton</td>\n",
              "            <td>female</td>\n",
              "            <td>29</td>\n",
              "            <td>0</td>\n",
              "            <td>0</td>\n",
              "            <td>24160</td>\n",
              "            <td>211.3375</td>\n",
              "            <td>B5</td>\n",
              "            <td>S</td>\n",
              "            <td>2</td>\n",
              "            <td>None</td>\n",
              "            <td>St Louis, MO</td>\n",
              "        </tr>\n",
              "        <tr>\n",
              "            <td>1</td>\n",
              "            <td>1</td>\n",
              "            <td>Allison, Master. Hudson Trevor</td>\n",
              "            <td>male</td>\n",
              "            <td>0.9167</td>\n",
              "            <td>1</td>\n",
              "            <td>2</td>\n",
              "            <td>113781</td>\n",
              "            <td>151.55</td>\n",
              "            <td>C22 C26</td>\n",
              "            <td>S</td>\n",
              "            <td>11</td>\n",
              "            <td>None</td>\n",
              "            <td>Montreal, PQ / Chesterville, ON</td>\n",
              "        </tr>\n",
              "        <tr>\n",
              "            <td>1</td>\n",
              "            <td>0</td>\n",
              "            <td>Allison, Miss. Helen Loraine</td>\n",
              "            <td>female</td>\n",
              "            <td>2</td>\n",
              "            <td>1</td>\n",
              "            <td>2</td>\n",
              "            <td>113781</td>\n",
              "            <td>151.55</td>\n",
              "            <td>C22 C26</td>\n",
              "            <td>S</td>\n",
              "            <td>None</td>\n",
              "            <td>None</td>\n",
              "            <td>Montreal, PQ / Chesterville, ON</td>\n",
              "        </tr>\n",
              "        <tr>\n",
              "            <td>1</td>\n",
              "            <td>0</td>\n",
              "            <td>Allison, Mr. Hudson Joshua Creighton</td>\n",
              "            <td>male</td>\n",
              "            <td>30</td>\n",
              "            <td>1</td>\n",
              "            <td>2</td>\n",
              "            <td>113781</td>\n",
              "            <td>151.55</td>\n",
              "            <td>C22 C26</td>\n",
              "            <td>S</td>\n",
              "            <td>None</td>\n",
              "            <td>135</td>\n",
              "            <td>Montreal, PQ / Chesterville, ON</td>\n",
              "        </tr>\n",
              "        <tr>\n",
              "            <td>1</td>\n",
              "            <td>0</td>\n",
              "            <td>Allison, Mrs. Hudson J C (Bessie Waldo Daniels)</td>\n",
              "            <td>female</td>\n",
              "            <td>25</td>\n",
              "            <td>1</td>\n",
              "            <td>2</td>\n",
              "            <td>113781</td>\n",
              "            <td>151.55</td>\n",
              "            <td>C22 C26</td>\n",
              "            <td>S</td>\n",
              "            <td>None</td>\n",
              "            <td>None</td>\n",
              "            <td>Montreal, PQ / Chesterville, ON</td>\n",
              "        </tr>\n",
              "    </tbody>\n",
              "</table>"
            ]
          },
          "metadata": {},
          "execution_count": 4
        }
      ]
    },
    {
      "cell_type": "code",
      "source": [
        "##github test"
      ],
      "metadata": {
        "id": "WKFXXZU-1v8h"
      },
      "execution_count": null,
      "outputs": []
    },
    {
      "cell_type": "markdown",
      "source": [
        "# Part 4 - ERD"
      ],
      "metadata": {
        "id": "uTmmqcxktnAw"
      }
    },
    {
      "cell_type": "code",
      "source": [],
      "metadata": {
        "id": "ESYKDpPwtsYY"
      },
      "execution_count": null,
      "outputs": []
    }
  ]
}