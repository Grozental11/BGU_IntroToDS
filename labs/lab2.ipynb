{
  "nbformat": 4,
  "nbformat_minor": 0,
  "metadata": {
    "colab": {
      "provenance": []
    },
    "kernelspec": {
      "name": "python3",
      "display_name": "Python 3"
    },
    "language_info": {
      "name": "python"
    }
  },
  "cells": [
    {
      "cell_type": "code",
      "source": [
        "import json\n",
        "import os\n",
        "\n",
        "!pip install kaggle\n",
        "\n",
        "api_token = {\"username\":\"grozental\",\"key\":\"54907d9041ac43e8165000d5df2f2f86\"}\n",
        "\n",
        "\n",
        "!mkdir /root/.kaggle\n",
        "with open('/root/.kaggle/kaggle.json', 'w') as file:\n",
        "  json.dump(api_token, file)\n",
        "!chmod 600 /root/.kaggle/kaggle.json"
      ],
      "metadata": {
        "id": "3CC7umDMOoiO",
        "colab": {
          "base_uri": "https://localhost:8080/"
        },
        "outputId": "32f58aa4-9785-414b-abb6-1b625d3429a5"
      },
      "execution_count": null,
      "outputs": [
        {
          "output_type": "stream",
          "name": "stdout",
          "text": [
            "Requirement already satisfied: kaggle in /usr/local/lib/python3.10/dist-packages (1.5.16)\n",
            "Requirement already satisfied: six>=1.10 in /usr/local/lib/python3.10/dist-packages (from kaggle) (1.16.0)\n",
            "Requirement already satisfied: certifi in /usr/local/lib/python3.10/dist-packages (from kaggle) (2023.11.17)\n",
            "Requirement already satisfied: python-dateutil in /usr/local/lib/python3.10/dist-packages (from kaggle) (2.8.2)\n",
            "Requirement already satisfied: requests in /usr/local/lib/python3.10/dist-packages (from kaggle) (2.31.0)\n",
            "Requirement already satisfied: tqdm in /usr/local/lib/python3.10/dist-packages (from kaggle) (4.66.1)\n",
            "Requirement already satisfied: python-slugify in /usr/local/lib/python3.10/dist-packages (from kaggle) (8.0.1)\n",
            "Requirement already satisfied: urllib3 in /usr/local/lib/python3.10/dist-packages (from kaggle) (2.0.7)\n",
            "Requirement already satisfied: bleach in /usr/local/lib/python3.10/dist-packages (from kaggle) (6.1.0)\n",
            "Requirement already satisfied: webencodings in /usr/local/lib/python3.10/dist-packages (from bleach->kaggle) (0.5.1)\n",
            "Requirement already satisfied: text-unidecode>=1.3 in /usr/local/lib/python3.10/dist-packages (from python-slugify->kaggle) (1.3)\n",
            "Requirement already satisfied: charset-normalizer<4,>=2 in /usr/local/lib/python3.10/dist-packages (from requests->kaggle) (3.3.2)\n",
            "Requirement already satisfied: idna<4,>=2.5 in /usr/local/lib/python3.10/dist-packages (from requests->kaggle) (3.6)\n"
          ]
        }
      ]
    },
    {
      "cell_type": "markdown",
      "source": [
        "# Part 1 - ATP_Tennis"
      ],
      "metadata": {
        "id": "RkQVgQv3pT_b"
      }
    },
    {
      "cell_type": "code",
      "source": [
        "!kaggle datasets download -d guillemservera/tennis\n",
        "!unzip tennis.zip -d ./database"
      ],
      "metadata": {
        "id": "h-4pQfs3OZgN",
        "colab": {
          "base_uri": "https://localhost:8080/"
        },
        "outputId": "3d51415c-f6a0-40cf-bbaf-61cb8a7dcce0"
      },
      "execution_count": null,
      "outputs": [
        {
          "output_type": "stream",
          "name": "stdout",
          "text": [
            "Downloading tennis.zip to /content\n",
            "100% 117M/117M [00:00<00:00, 188MB/s] \n",
            "100% 117M/117M [00:00<00:00, 176MB/s]\n",
            "Archive:  tennis.zip\n",
            "  inflating: ./database/database.sqlite  \n",
            "  inflating: ./database/tennis_atp/atp_matches_1968.csv  \n",
            "  inflating: ./database/tennis_atp/atp_matches_1969.csv  \n",
            "  inflating: ./database/tennis_atp/atp_matches_1970.csv  \n",
            "  inflating: ./database/tennis_atp/atp_matches_1971.csv  \n",
            "  inflating: ./database/tennis_atp/atp_matches_1972.csv  \n",
            "  inflating: ./database/tennis_atp/atp_matches_1973.csv  \n",
            "  inflating: ./database/tennis_atp/atp_matches_1974.csv  \n",
            "  inflating: ./database/tennis_atp/atp_matches_1975.csv  \n",
            "  inflating: ./database/tennis_atp/atp_matches_1976.csv  \n",
            "  inflating: ./database/tennis_atp/atp_matches_1977.csv  \n",
            "  inflating: ./database/tennis_atp/atp_matches_1978.csv  \n",
            "  inflating: ./database/tennis_atp/atp_matches_1979.csv  \n",
            "  inflating: ./database/tennis_atp/atp_matches_1980.csv  \n",
            "  inflating: ./database/tennis_atp/atp_matches_1981.csv  \n",
            "  inflating: ./database/tennis_atp/atp_matches_1982.csv  \n",
            "  inflating: ./database/tennis_atp/atp_matches_1983.csv  \n",
            "  inflating: ./database/tennis_atp/atp_matches_1984.csv  \n",
            "  inflating: ./database/tennis_atp/atp_matches_1985.csv  \n",
            "  inflating: ./database/tennis_atp/atp_matches_1986.csv  \n",
            "  inflating: ./database/tennis_atp/atp_matches_1987.csv  \n",
            "  inflating: ./database/tennis_atp/atp_matches_1988.csv  \n",
            "  inflating: ./database/tennis_atp/atp_matches_1989.csv  \n",
            "  inflating: ./database/tennis_atp/atp_matches_1990.csv  \n",
            "  inflating: ./database/tennis_atp/atp_matches_1991.csv  \n",
            "  inflating: ./database/tennis_atp/atp_matches_1992.csv  \n",
            "  inflating: ./database/tennis_atp/atp_matches_1993.csv  \n",
            "  inflating: ./database/tennis_atp/atp_matches_1994.csv  \n",
            "  inflating: ./database/tennis_atp/atp_matches_1995.csv  \n",
            "  inflating: ./database/tennis_atp/atp_matches_1996.csv  \n",
            "  inflating: ./database/tennis_atp/atp_matches_1997.csv  \n",
            "  inflating: ./database/tennis_atp/atp_matches_1998.csv  \n",
            "  inflating: ./database/tennis_atp/atp_matches_1999.csv  \n",
            "  inflating: ./database/tennis_atp/atp_matches_2000.csv  \n",
            "  inflating: ./database/tennis_atp/atp_matches_2001.csv  \n",
            "  inflating: ./database/tennis_atp/atp_matches_2002.csv  \n",
            "  inflating: ./database/tennis_atp/atp_matches_2003.csv  \n",
            "  inflating: ./database/tennis_atp/atp_matches_2004.csv  \n",
            "  inflating: ./database/tennis_atp/atp_matches_2005.csv  \n",
            "  inflating: ./database/tennis_atp/atp_matches_2006.csv  \n",
            "  inflating: ./database/tennis_atp/atp_matches_2007.csv  \n",
            "  inflating: ./database/tennis_atp/atp_matches_2008.csv  \n",
            "  inflating: ./database/tennis_atp/atp_matches_2009.csv  \n",
            "  inflating: ./database/tennis_atp/atp_matches_2010.csv  \n",
            "  inflating: ./database/tennis_atp/atp_matches_2011.csv  \n",
            "  inflating: ./database/tennis_atp/atp_matches_2012.csv  \n",
            "  inflating: ./database/tennis_atp/atp_matches_2013.csv  \n",
            "  inflating: ./database/tennis_atp/atp_matches_2014.csv  \n",
            "  inflating: ./database/tennis_atp/atp_matches_2015.csv  \n",
            "  inflating: ./database/tennis_atp/atp_matches_2016.csv  \n",
            "  inflating: ./database/tennis_atp/atp_matches_2017.csv  \n",
            "  inflating: ./database/tennis_atp/atp_matches_2018.csv  \n",
            "  inflating: ./database/tennis_atp/atp_matches_2019.csv  \n",
            "  inflating: ./database/tennis_atp/atp_matches_2020.csv  \n",
            "  inflating: ./database/tennis_atp/atp_matches_2021.csv  \n",
            "  inflating: ./database/tennis_atp/atp_matches_2022.csv  \n",
            "  inflating: ./database/tennis_atp/atp_matches_2023.csv  \n",
            "  inflating: ./database/tennis_atp/atp_matches_amateur.csv  \n",
            "  inflating: ./database/tennis_atp/atp_matches_doubles_2000.csv  \n",
            "  inflating: ./database/tennis_atp/atp_matches_doubles_2001.csv  \n",
            "  inflating: ./database/tennis_atp/atp_matches_doubles_2002.csv  \n",
            "  inflating: ./database/tennis_atp/atp_matches_doubles_2003.csv  \n",
            "  inflating: ./database/tennis_atp/atp_matches_doubles_2004.csv  \n",
            "  inflating: ./database/tennis_atp/atp_matches_doubles_2005.csv  \n",
            "  inflating: ./database/tennis_atp/atp_matches_doubles_2006.csv  \n",
            "  inflating: ./database/tennis_atp/atp_matches_doubles_2007.csv  \n",
            "  inflating: ./database/tennis_atp/atp_matches_doubles_2008.csv  \n",
            "  inflating: ./database/tennis_atp/atp_matches_doubles_2009.csv  \n",
            "  inflating: ./database/tennis_atp/atp_matches_doubles_2010.csv  \n",
            "  inflating: ./database/tennis_atp/atp_matches_doubles_2011.csv  \n",
            "  inflating: ./database/tennis_atp/atp_matches_doubles_2012.csv  \n",
            "  inflating: ./database/tennis_atp/atp_matches_doubles_2013.csv  \n",
            "  inflating: ./database/tennis_atp/atp_matches_doubles_2014.csv  \n",
            "  inflating: ./database/tennis_atp/atp_matches_doubles_2015.csv  \n",
            "  inflating: ./database/tennis_atp/atp_matches_doubles_2016.csv  \n",
            "  inflating: ./database/tennis_atp/atp_matches_doubles_2017.csv  \n",
            "  inflating: ./database/tennis_atp/atp_matches_doubles_2018.csv  \n",
            "  inflating: ./database/tennis_atp/atp_matches_doubles_2019.csv  \n",
            "  inflating: ./database/tennis_atp/atp_matches_doubles_2020.csv  \n",
            "  inflating: ./database/tennis_atp/atp_matches_futures_1991.csv  \n",
            "  inflating: ./database/tennis_atp/atp_matches_futures_1992.csv  \n",
            "  inflating: ./database/tennis_atp/atp_matches_futures_1993.csv  \n",
            "  inflating: ./database/tennis_atp/atp_matches_futures_1994.csv  \n",
            "  inflating: ./database/tennis_atp/atp_matches_futures_1995.csv  \n",
            "  inflating: ./database/tennis_atp/atp_matches_futures_1996.csv  \n",
            "  inflating: ./database/tennis_atp/atp_matches_futures_1997.csv  \n",
            "  inflating: ./database/tennis_atp/atp_matches_futures_1998.csv  \n",
            "  inflating: ./database/tennis_atp/atp_matches_futures_1999.csv  \n",
            "  inflating: ./database/tennis_atp/atp_matches_futures_2000.csv  \n",
            "  inflating: ./database/tennis_atp/atp_matches_futures_2001.csv  \n",
            "  inflating: ./database/tennis_atp/atp_matches_futures_2002.csv  \n",
            "  inflating: ./database/tennis_atp/atp_matches_futures_2003.csv  \n",
            "  inflating: ./database/tennis_atp/atp_matches_futures_2004.csv  \n",
            "  inflating: ./database/tennis_atp/atp_matches_futures_2005.csv  \n",
            "  inflating: ./database/tennis_atp/atp_matches_futures_2006.csv  \n",
            "  inflating: ./database/tennis_atp/atp_matches_futures_2007.csv  \n",
            "  inflating: ./database/tennis_atp/atp_matches_futures_2008.csv  \n",
            "  inflating: ./database/tennis_atp/atp_matches_futures_2009.csv  \n",
            "  inflating: ./database/tennis_atp/atp_matches_futures_2010.csv  \n",
            "  inflating: ./database/tennis_atp/atp_matches_futures_2011.csv  \n",
            "  inflating: ./database/tennis_atp/atp_matches_futures_2012.csv  \n",
            "  inflating: ./database/tennis_atp/atp_matches_futures_2013.csv  \n",
            "  inflating: ./database/tennis_atp/atp_matches_futures_2014.csv  \n",
            "  inflating: ./database/tennis_atp/atp_matches_futures_2015.csv  \n",
            "  inflating: ./database/tennis_atp/atp_matches_futures_2016.csv  \n",
            "  inflating: ./database/tennis_atp/atp_matches_futures_2017.csv  \n",
            "  inflating: ./database/tennis_atp/atp_matches_futures_2018.csv  \n",
            "  inflating: ./database/tennis_atp/atp_matches_futures_2019.csv  \n",
            "  inflating: ./database/tennis_atp/atp_matches_futures_2020.csv  \n",
            "  inflating: ./database/tennis_atp/atp_matches_futures_2021.csv  \n",
            "  inflating: ./database/tennis_atp/atp_matches_futures_2022.csv  \n",
            "  inflating: ./database/tennis_atp/atp_matches_futures_2023.csv  \n",
            "  inflating: ./database/tennis_atp/atp_matches_qual_chall_1978.csv  \n",
            "  inflating: ./database/tennis_atp/atp_matches_qual_chall_1979.csv  \n",
            "  inflating: ./database/tennis_atp/atp_matches_qual_chall_1980.csv  \n",
            "  inflating: ./database/tennis_atp/atp_matches_qual_chall_1981.csv  \n",
            "  inflating: ./database/tennis_atp/atp_matches_qual_chall_1982.csv  \n",
            "  inflating: ./database/tennis_atp/atp_matches_qual_chall_1983.csv  \n",
            "  inflating: ./database/tennis_atp/atp_matches_qual_chall_1984.csv  \n",
            "  inflating: ./database/tennis_atp/atp_matches_qual_chall_1985.csv  \n",
            "  inflating: ./database/tennis_atp/atp_matches_qual_chall_1986.csv  \n",
            "  inflating: ./database/tennis_atp/atp_matches_qual_chall_1987.csv  \n",
            "  inflating: ./database/tennis_atp/atp_matches_qual_chall_1988.csv  \n",
            "  inflating: ./database/tennis_atp/atp_matches_qual_chall_1989.csv  \n",
            "  inflating: ./database/tennis_atp/atp_matches_qual_chall_1990.csv  \n",
            "  inflating: ./database/tennis_atp/atp_matches_qual_chall_1991.csv  \n",
            "  inflating: ./database/tennis_atp/atp_matches_qual_chall_1992.csv  \n",
            "  inflating: ./database/tennis_atp/atp_matches_qual_chall_1993.csv  \n",
            "  inflating: ./database/tennis_atp/atp_matches_qual_chall_1994.csv  \n",
            "  inflating: ./database/tennis_atp/atp_matches_qual_chall_1995.csv  \n",
            "  inflating: ./database/tennis_atp/atp_matches_qual_chall_1996.csv  \n",
            "  inflating: ./database/tennis_atp/atp_matches_qual_chall_1997.csv  \n",
            "  inflating: ./database/tennis_atp/atp_matches_qual_chall_1998.csv  \n",
            "  inflating: ./database/tennis_atp/atp_matches_qual_chall_1999.csv  \n",
            "  inflating: ./database/tennis_atp/atp_matches_qual_chall_2000.csv  \n",
            "  inflating: ./database/tennis_atp/atp_matches_qual_chall_2001.csv  \n",
            "  inflating: ./database/tennis_atp/atp_matches_qual_chall_2002.csv  \n",
            "  inflating: ./database/tennis_atp/atp_matches_qual_chall_2003.csv  \n",
            "  inflating: ./database/tennis_atp/atp_matches_qual_chall_2004.csv  \n",
            "  inflating: ./database/tennis_atp/atp_matches_qual_chall_2005.csv  \n",
            "  inflating: ./database/tennis_atp/atp_matches_qual_chall_2006.csv  \n",
            "  inflating: ./database/tennis_atp/atp_matches_qual_chall_2007.csv  \n",
            "  inflating: ./database/tennis_atp/atp_matches_qual_chall_2008.csv  \n",
            "  inflating: ./database/tennis_atp/atp_matches_qual_chall_2009.csv  \n",
            "  inflating: ./database/tennis_atp/atp_matches_qual_chall_2010.csv  \n",
            "  inflating: ./database/tennis_atp/atp_matches_qual_chall_2011.csv  \n",
            "  inflating: ./database/tennis_atp/atp_matches_qual_chall_2012.csv  \n",
            "  inflating: ./database/tennis_atp/atp_matches_qual_chall_2013.csv  \n",
            "  inflating: ./database/tennis_atp/atp_matches_qual_chall_2014.csv  \n",
            "  inflating: ./database/tennis_atp/atp_matches_qual_chall_2015.csv  \n",
            "  inflating: ./database/tennis_atp/atp_matches_qual_chall_2016.csv  \n",
            "  inflating: ./database/tennis_atp/atp_matches_qual_chall_2017.csv  \n",
            "  inflating: ./database/tennis_atp/atp_matches_qual_chall_2018.csv  \n",
            "  inflating: ./database/tennis_atp/atp_matches_qual_chall_2019.csv  \n",
            "  inflating: ./database/tennis_atp/atp_matches_qual_chall_2020.csv  \n",
            "  inflating: ./database/tennis_atp/atp_matches_qual_chall_2021.csv  \n",
            "  inflating: ./database/tennis_atp/atp_matches_qual_chall_2022.csv  \n",
            "  inflating: ./database/tennis_atp/atp_matches_qual_chall_2023.csv  \n",
            "  inflating: ./database/tennis_atp/atp_players.csv  \n",
            "  inflating: ./database/tennis_atp/atp_rankings_00s.csv  \n",
            "  inflating: ./database/tennis_atp/atp_rankings_10s.csv  \n",
            "  inflating: ./database/tennis_atp/atp_rankings_20s.csv  \n",
            "  inflating: ./database/tennis_atp/atp_rankings_70s.csv  \n",
            "  inflating: ./database/tennis_atp/atp_rankings_80s.csv  \n",
            "  inflating: ./database/tennis_atp/atp_rankings_90s.csv  \n",
            "  inflating: ./database/tennis_atp/atp_rankings_current.csv  \n"
          ]
        }
      ]
    },
    {
      "cell_type": "code",
      "execution_count": null,
      "metadata": {
        "id": "h0cd1HZz-728"
      },
      "outputs": [],
      "source": [
        "%load_ext sql"
      ]
    },
    {
      "cell_type": "code",
      "source": [
        "%sql sqlite:///database/database.sqlite"
      ],
      "metadata": {
        "id": "dPPXiJbxRySE"
      },
      "execution_count": null,
      "outputs": []
    },
    {
      "cell_type": "code",
      "source": [
        "##Q1\n",
        "%%sql\n",
        "SELECT ioc, COUNT(*) AS number_of_players\n",
        "FROM players\n",
        "GROUP BY ioc ORDER BY number_of_players DESC\n",
        "LIMIT 5"
      ],
      "metadata": {
        "id": "Ycb10KaP1KKr",
        "colab": {
          "base_uri": "https://localhost:8080/",
          "height": 179
        },
        "outputId": "f4c87c6c-a302-4872-93f7-e1e2e78911e6"
      },
      "execution_count": null,
      "outputs": [
        {
          "output_type": "stream",
          "name": "stdout",
          "text": [
            " * sqlite:///database/database.sqlite\n",
            "Done.\n"
          ]
        },
        {
          "output_type": "execute_result",
          "data": {
            "text/plain": [
              "[('USA', 13074), ('AUS', 3259), ('GBR', 3189), ('ESP', 3017), ('GER', 2669)]"
            ],
            "text/html": [
              "<table>\n",
              "    <thead>\n",
              "        <tr>\n",
              "            <th>ioc</th>\n",
              "            <th>number_of_players</th>\n",
              "        </tr>\n",
              "    </thead>\n",
              "    <tbody>\n",
              "        <tr>\n",
              "            <td>USA</td>\n",
              "            <td>13074</td>\n",
              "        </tr>\n",
              "        <tr>\n",
              "            <td>AUS</td>\n",
              "            <td>3259</td>\n",
              "        </tr>\n",
              "        <tr>\n",
              "            <td>GBR</td>\n",
              "            <td>3189</td>\n",
              "        </tr>\n",
              "        <tr>\n",
              "            <td>ESP</td>\n",
              "            <td>3017</td>\n",
              "        </tr>\n",
              "        <tr>\n",
              "            <td>GER</td>\n",
              "            <td>2669</td>\n",
              "        </tr>\n",
              "    </tbody>\n",
              "</table>"
            ]
          },
          "metadata": {},
          "execution_count": 5
        }
      ]
    },
    {
      "cell_type": "code",
      "source": [
        "##Q2\n",
        "%%sql\n",
        "SELECT *\n",
        "FROM players\n",
        "WHERE name_last LIKE 'SON%'\n",
        "LIMIT 5"
      ],
      "metadata": {
        "colab": {
          "base_uri": "https://localhost:8080/",
          "height": 179
        },
        "id": "798EtjFXr9Ui",
        "outputId": "b96aa44f-1eec-4e7c-a485-1300bdf52d1d"
      },
      "execution_count": null,
      "outputs": [
        {
          "output_type": "stream",
          "name": "stdout",
          "text": [
            " * sqlite:///database/database.sqlite\n",
            "Done.\n"
          ]
        },
        {
          "output_type": "execute_result",
          "data": {
            "text/plain": [
              "[(100853, 'Dong Wook', 'Song', 'L', 19620820.0, 'KOR', 175.0, 'Q7560983'),\n",
              " (102454, 'Hyeong Keun', 'Song', 'R', 19740916.0, 'KOR', None, None),\n",
              " (103001, 'Gavin', 'Sontag', 'U', 19770610.0, 'USA', None, 'Q55314934'),\n",
              " (105621, 'Min Kyu', 'Song', 'U', 19900825.0, 'KOR', None, 'Q55397069'),\n",
              " (111729, 'Shan', 'Sondhu', 'U', 19880117.0, 'USA', None, None)]"
            ],
            "text/html": [
              "<table>\n",
              "    <thead>\n",
              "        <tr>\n",
              "            <th>player_id</th>\n",
              "            <th>name_first</th>\n",
              "            <th>name_last</th>\n",
              "            <th>hand</th>\n",
              "            <th>dob</th>\n",
              "            <th>ioc</th>\n",
              "            <th>height</th>\n",
              "            <th>wikidata_id</th>\n",
              "        </tr>\n",
              "    </thead>\n",
              "    <tbody>\n",
              "        <tr>\n",
              "            <td>100853</td>\n",
              "            <td>Dong Wook</td>\n",
              "            <td>Song</td>\n",
              "            <td>L</td>\n",
              "            <td>19620820.0</td>\n",
              "            <td>KOR</td>\n",
              "            <td>175.0</td>\n",
              "            <td>Q7560983</td>\n",
              "        </tr>\n",
              "        <tr>\n",
              "            <td>102454</td>\n",
              "            <td>Hyeong Keun</td>\n",
              "            <td>Song</td>\n",
              "            <td>R</td>\n",
              "            <td>19740916.0</td>\n",
              "            <td>KOR</td>\n",
              "            <td>None</td>\n",
              "            <td>None</td>\n",
              "        </tr>\n",
              "        <tr>\n",
              "            <td>103001</td>\n",
              "            <td>Gavin</td>\n",
              "            <td>Sontag</td>\n",
              "            <td>U</td>\n",
              "            <td>19770610.0</td>\n",
              "            <td>USA</td>\n",
              "            <td>None</td>\n",
              "            <td>Q55314934</td>\n",
              "        </tr>\n",
              "        <tr>\n",
              "            <td>105621</td>\n",
              "            <td>Min Kyu</td>\n",
              "            <td>Song</td>\n",
              "            <td>U</td>\n",
              "            <td>19900825.0</td>\n",
              "            <td>KOR</td>\n",
              "            <td>None</td>\n",
              "            <td>Q55397069</td>\n",
              "        </tr>\n",
              "        <tr>\n",
              "            <td>111729</td>\n",
              "            <td>Shan</td>\n",
              "            <td>Sondhu</td>\n",
              "            <td>U</td>\n",
              "            <td>19880117.0</td>\n",
              "            <td>USA</td>\n",
              "            <td>None</td>\n",
              "            <td>None</td>\n",
              "        </tr>\n",
              "    </tbody>\n",
              "</table>"
            ]
          },
          "metadata": {},
          "execution_count": 6
        }
      ]
    },
    {
      "cell_type": "code",
      "source": [
        "##Q3\n",
        "%%sql\n",
        "SELECT p.name_first, p.name_last\n",
        "FROM players p LEFT JOIN (SELECT loser_id, COUNT(*) as loss_count FROM matches GROUP BY loser_id) l ON p.player_id = l.loser_id\n",
        "WHERE IFNULL(l.loss_count, 0) < 2\n",
        "LIMIT 5"
      ],
      "metadata": {
        "colab": {
          "base_uri": "https://localhost:8080/",
          "height": 179
        },
        "id": "WOWl90kssH-8",
        "outputId": "9f28bfb4-2cf2-4d31-a173-6b8c25728537"
      },
      "execution_count": null,
      "outputs": [
        {
          "output_type": "stream",
          "name": "stdout",
          "text": [
            " * sqlite:///database/database.sqlite\n",
            "Done.\n"
          ]
        },
        {
          "output_type": "execute_result",
          "data": {
            "text/plain": [
              "[('Zdenek', 'Slizek'),\n",
              " ('George', 'Glowa'),\n",
              " ('Ulises', 'Quezada'),\n",
              " ('Chiraid', 'Mukherjea'),\n",
              " ('David', 'Parker')]"
            ],
            "text/html": [
              "<table>\n",
              "    <thead>\n",
              "        <tr>\n",
              "            <th>name_first</th>\n",
              "            <th>name_last</th>\n",
              "        </tr>\n",
              "    </thead>\n",
              "    <tbody>\n",
              "        <tr>\n",
              "            <td>Zdenek</td>\n",
              "            <td>Slizek</td>\n",
              "        </tr>\n",
              "        <tr>\n",
              "            <td>George</td>\n",
              "            <td>Glowa</td>\n",
              "        </tr>\n",
              "        <tr>\n",
              "            <td>Ulises</td>\n",
              "            <td>Quezada</td>\n",
              "        </tr>\n",
              "        <tr>\n",
              "            <td>Chiraid</td>\n",
              "            <td>Mukherjea</td>\n",
              "        </tr>\n",
              "        <tr>\n",
              "            <td>David</td>\n",
              "            <td>Parker</td>\n",
              "        </tr>\n",
              "    </tbody>\n",
              "</table>"
            ]
          },
          "metadata": {},
          "execution_count": 7
        }
      ]
    },
    {
      "cell_type": "code",
      "source": [
        "##Q4\n",
        "%%sql\n",
        "SELECT name_first, name_last\n",
        "FROM players\n",
        "WHERE player_id IN (SELECT player FROM rankings WHERE points > (SELECT AVG(points) FROM rankings))\n",
        "LIMIT 5"
      ],
      "metadata": {
        "colab": {
          "base_uri": "https://localhost:8080/",
          "height": 179
        },
        "id": "Z40McapVsZto",
        "outputId": "6c23aff6-866f-4162-fe6f-5d0325d983bf"
      },
      "execution_count": null,
      "outputs": [
        {
          "output_type": "stream",
          "name": "stdout",
          "text": [
            " * sqlite:///database/database.sqlite\n",
            "Done.\n"
          ]
        },
        {
          "output_type": "execute_result",
          "data": {
            "text/plain": [
              "[('Jimmy', 'Connors'),\n",
              " ('Kevin', 'Curren'),\n",
              " ('Johan', 'Kriek'),\n",
              " ('Fernando', 'Luna'),\n",
              " ('Brad', 'Drewett')]"
            ],
            "text/html": [
              "<table>\n",
              "    <thead>\n",
              "        <tr>\n",
              "            <th>name_first</th>\n",
              "            <th>name_last</th>\n",
              "        </tr>\n",
              "    </thead>\n",
              "    <tbody>\n",
              "        <tr>\n",
              "            <td>Jimmy</td>\n",
              "            <td>Connors</td>\n",
              "        </tr>\n",
              "        <tr>\n",
              "            <td>Kevin</td>\n",
              "            <td>Curren</td>\n",
              "        </tr>\n",
              "        <tr>\n",
              "            <td>Johan</td>\n",
              "            <td>Kriek</td>\n",
              "        </tr>\n",
              "        <tr>\n",
              "            <td>Fernando</td>\n",
              "            <td>Luna</td>\n",
              "        </tr>\n",
              "        <tr>\n",
              "            <td>Brad</td>\n",
              "            <td>Drewett</td>\n",
              "        </tr>\n",
              "    </tbody>\n",
              "</table>"
            ]
          },
          "metadata": {},
          "execution_count": 8
        }
      ]
    },
    {
      "cell_type": "code",
      "source": [
        "##Q5\n",
        "%%sql\n",
        "SELECT hand, AVG(height) AS average_height\n",
        "FROM players\n",
        "GROUP BY hand"
      ],
      "metadata": {
        "colab": {
          "base_uri": "https://localhost:8080/",
          "height": 179
        },
        "id": "a3XLTUr9silP",
        "outputId": "58d4b7d4-91d0-41d0-db89-df32262fb772"
      },
      "execution_count": null,
      "outputs": [
        {
          "output_type": "stream",
          "name": "stdout",
          "text": [
            " * sqlite:///database/database.sqlite\n",
            "Done.\n"
          ]
        },
        {
          "output_type": "execute_result",
          "data": {
            "text/plain": [
              "[(None, None),\n",
              " ('A', 180.25),\n",
              " ('L', 183.5611111111111),\n",
              " ('R', 183.82128013300084),\n",
              " ('U', 181.03571428571428)]"
            ],
            "text/html": [
              "<table>\n",
              "    <thead>\n",
              "        <tr>\n",
              "            <th>hand</th>\n",
              "            <th>average_height</th>\n",
              "        </tr>\n",
              "    </thead>\n",
              "    <tbody>\n",
              "        <tr>\n",
              "            <td>None</td>\n",
              "            <td>None</td>\n",
              "        </tr>\n",
              "        <tr>\n",
              "            <td>A</td>\n",
              "            <td>180.25</td>\n",
              "        </tr>\n",
              "        <tr>\n",
              "            <td>L</td>\n",
              "            <td>183.5611111111111</td>\n",
              "        </tr>\n",
              "        <tr>\n",
              "            <td>R</td>\n",
              "            <td>183.82128013300084</td>\n",
              "        </tr>\n",
              "        <tr>\n",
              "            <td>U</td>\n",
              "            <td>181.03571428571428</td>\n",
              "        </tr>\n",
              "    </tbody>\n",
              "</table>"
            ]
          },
          "metadata": {},
          "execution_count": 9
        }
      ]
    },
    {
      "cell_type": "code",
      "source": [
        "##Q6\n",
        "%%sql\n",
        "SELECT name_first, name_last, ioc\n",
        "FROM players\n",
        "WHERE player_id IN (SELECT player FROM rankings WHERE points > -1000)\n",
        "LIMIT 5"
      ],
      "metadata": {
        "colab": {
          "base_uri": "https://localhost:8080/",
          "height": 179
        },
        "id": "P8cOLhI0snM6",
        "outputId": "a7ed8611-9687-4a6a-f1f0-8f6d78cd27b2"
      },
      "execution_count": null,
      "outputs": [
        {
          "output_type": "stream",
          "name": "stdout",
          "text": [
            " * sqlite:///database/database.sqlite\n",
            "Done.\n"
          ]
        },
        {
          "output_type": "execute_result",
          "data": {
            "text/plain": [
              "[('Wieslaw', 'Gasiorek', 'POL'),\n",
              " ('Jan', 'Kukal', 'CZE'),\n",
              " ('Jan', 'Kodes', 'CZE'),\n",
              " ('Toshiro', 'Sakai', 'JPN'),\n",
              " ('Jim', 'Ward', 'USA')]"
            ],
            "text/html": [
              "<table>\n",
              "    <thead>\n",
              "        <tr>\n",
              "            <th>name_first</th>\n",
              "            <th>name_last</th>\n",
              "            <th>ioc</th>\n",
              "        </tr>\n",
              "    </thead>\n",
              "    <tbody>\n",
              "        <tr>\n",
              "            <td>Wieslaw</td>\n",
              "            <td>Gasiorek</td>\n",
              "            <td>POL</td>\n",
              "        </tr>\n",
              "        <tr>\n",
              "            <td>Jan</td>\n",
              "            <td>Kukal</td>\n",
              "            <td>CZE</td>\n",
              "        </tr>\n",
              "        <tr>\n",
              "            <td>Jan</td>\n",
              "            <td>Kodes</td>\n",
              "            <td>CZE</td>\n",
              "        </tr>\n",
              "        <tr>\n",
              "            <td>Toshiro</td>\n",
              "            <td>Sakai</td>\n",
              "            <td>JPN</td>\n",
              "        </tr>\n",
              "        <tr>\n",
              "            <td>Jim</td>\n",
              "            <td>Ward</td>\n",
              "            <td>USA</td>\n",
              "        </tr>\n",
              "    </tbody>\n",
              "</table>"
            ]
          },
          "metadata": {},
          "execution_count": 10
        }
      ]
    },
    {
      "cell_type": "code",
      "source": [
        "##Q7\n",
        "%%sql\n",
        "SELECT ioc, AVG(points) AS average_rating\n",
        "FROM players p JOIN rankings r ON p.player_id = r.player\n",
        "GROUP BY ioc HAVING COUNT(p.player_id) > 10\n",
        "LIMIT 5"
      ],
      "metadata": {
        "colab": {
          "base_uri": "https://localhost:8080/",
          "height": 179
        },
        "id": "cZsItCtNsvGz",
        "outputId": "03c2b959-464e-4f57-c218-7181090ffb58"
      },
      "execution_count": null,
      "outputs": [
        {
          "output_type": "stream",
          "name": "stdout",
          "text": [
            " * sqlite:///database/database.sqlite\n",
            "Done.\n"
          ]
        },
        {
          "output_type": "execute_result",
          "data": {
            "text/plain": [
              "[(None, 15.446428571428571),\n",
              " ('AHO', 24.6797583081571),\n",
              " ('ALG', 36.079569001243264),\n",
              " ('AND', 9.924768518518519),\n",
              " ('ANT', 4.778656126482214)]"
            ],
            "text/html": [
              "<table>\n",
              "    <thead>\n",
              "        <tr>\n",
              "            <th>ioc</th>\n",
              "            <th>average_rating</th>\n",
              "        </tr>\n",
              "    </thead>\n",
              "    <tbody>\n",
              "        <tr>\n",
              "            <td>None</td>\n",
              "            <td>15.446428571428571</td>\n",
              "        </tr>\n",
              "        <tr>\n",
              "            <td>AHO</td>\n",
              "            <td>24.6797583081571</td>\n",
              "        </tr>\n",
              "        <tr>\n",
              "            <td>ALG</td>\n",
              "            <td>36.079569001243264</td>\n",
              "        </tr>\n",
              "        <tr>\n",
              "            <td>AND</td>\n",
              "            <td>9.924768518518519</td>\n",
              "        </tr>\n",
              "        <tr>\n",
              "            <td>ANT</td>\n",
              "            <td>4.778656126482214</td>\n",
              "        </tr>\n",
              "    </tbody>\n",
              "</table>"
            ]
          },
          "metadata": {},
          "execution_count": 11
        }
      ]
    },
    {
      "cell_type": "code",
      "source": [
        "##Q8\n",
        "%%sql\n",
        "SELECT DISTINCT p1.name_first, p1.name_last\n",
        "FROM matches m JOIN players p1 ON m.winner_id = p1.player_id JOIN players p2 ON m.loser_id = p2.player_id\n",
        "WHERE p2.hand = 'L' INTERSECT SELECT DISTINCT p3.name_first, p3.name_last FROM matches m JOIN players p3 ON m.loser_id = p3.player_id JOIN players p4 ON m.winner_id = p4.player_id\n",
        "WHERE p4.hand = 'L'\n",
        "LIMIT 5"
      ],
      "metadata": {
        "colab": {
          "base_uri": "https://localhost:8080/",
          "height": 179
        },
        "id": "0Tiwgl0_s406",
        "outputId": "f7fcfd29-fa2f-4e66-eb23-43ee352fe61c"
      },
      "execution_count": null,
      "outputs": [
        {
          "output_type": "stream",
          "name": "stdout",
          "text": [
            " * sqlite:///database/database.sqlite\n",
            "Done.\n"
          ]
        },
        {
          "output_type": "execute_result",
          "data": {
            "text/plain": [
              "[('Aaron', 'Addison'),\n",
              " ('Aaron', 'Cortes Alcaraz'),\n",
              " ('Aaron', 'Dujovne'),\n",
              " ('Aaron', 'Krickstein'),\n",
              " ('Aaron', 'Leeder Chard')]"
            ],
            "text/html": [
              "<table>\n",
              "    <thead>\n",
              "        <tr>\n",
              "            <th>name_first</th>\n",
              "            <th>name_last</th>\n",
              "        </tr>\n",
              "    </thead>\n",
              "    <tbody>\n",
              "        <tr>\n",
              "            <td>Aaron</td>\n",
              "            <td>Addison</td>\n",
              "        </tr>\n",
              "        <tr>\n",
              "            <td>Aaron</td>\n",
              "            <td>Cortes Alcaraz</td>\n",
              "        </tr>\n",
              "        <tr>\n",
              "            <td>Aaron</td>\n",
              "            <td>Dujovne</td>\n",
              "        </tr>\n",
              "        <tr>\n",
              "            <td>Aaron</td>\n",
              "            <td>Krickstein</td>\n",
              "        </tr>\n",
              "        <tr>\n",
              "            <td>Aaron</td>\n",
              "            <td>Leeder Chard</td>\n",
              "        </tr>\n",
              "    </tbody>\n",
              "</table>"
            ]
          },
          "metadata": {},
          "execution_count": 12
        }
      ]
    },
    {
      "cell_type": "markdown",
      "source": [
        "#Part 2 - POKEMONS"
      ],
      "metadata": {
        "id": "TRYskdjkWxpN"
      }
    },
    {
      "cell_type": "code",
      "source": [
        "!kaggle datasets download -d lrcusack/pokemontrainers\n",
        "!unzip pokemontrainers.zip -d ./database_1"
      ],
      "metadata": {
        "id": "oGlwkhrrMg8O",
        "colab": {
          "base_uri": "https://localhost:8080/"
        },
        "outputId": "f4862b92-1fc5-4238-d4e5-c4f234640b00"
      },
      "execution_count": null,
      "outputs": [
        {
          "output_type": "stream",
          "name": "stdout",
          "text": [
            "Downloading pokemontrainers.zip to /content\n",
            "\r  0% 0.00/801k [00:00<?, ?B/s]\n",
            "\r100% 801k/801k [00:00<00:00, 111MB/s]\n",
            "Archive:  pokemontrainers.zip\n",
            "  inflating: ./database_1/database.sqlite  \n"
          ]
        }
      ]
    },
    {
      "cell_type": "code",
      "source": [
        "%sql sqlite:///database_1/database.sqlite"
      ],
      "metadata": {
        "id": "UFVrQrR8Mrn4"
      },
      "execution_count": null,
      "outputs": []
    },
    {
      "cell_type": "code",
      "source": [
        "##Q1\n",
        "%%sql\n",
        "SELECT DISTINCT Trainers.trainername, Pokemon.pokelevel\n",
        "FROM Pokemon\n",
        "JOIN Trainers ON Pokemon.trainerID = Trainers.trainerID\n",
        "WHERE Pokemon.pokelevel = (SELECT MAX(pokelevel) FROM Pokemon)\n",
        "LIMIT 5"
      ],
      "metadata": {
        "colab": {
          "base_uri": "https://localhost:8080/",
          "height": 196
        },
        "id": "xAHmXzS6uy-8",
        "outputId": "d559fd7e-ee05-4f42-c777-4c7e95cf0c3d"
      },
      "execution_count": null,
      "outputs": [
        {
          "output_type": "stream",
          "name": "stdout",
          "text": [
            "   sqlite:///database/database.sqlite\n",
            " * sqlite:///database_1/database.sqlite\n",
            "Done.\n"
          ]
        },
        {
          "output_type": "execute_result",
          "data": {
            "text/plain": [
              "[('Cool♀', 100),\n",
              " ('Cool♂', 100),\n",
              " ('Cooltrainer♀ Floria', 100),\n",
              " ('Cooltrainer♂ Marty', 100),\n",
              " ('Cooltrainer♂ Forgon', 100)]"
            ],
            "text/html": [
              "<table>\n",
              "    <thead>\n",
              "        <tr>\n",
              "            <th>trainername</th>\n",
              "            <th>pokelevel</th>\n",
              "        </tr>\n",
              "    </thead>\n",
              "    <tbody>\n",
              "        <tr>\n",
              "            <td>Cool♀</td>\n",
              "            <td>100</td>\n",
              "        </tr>\n",
              "        <tr>\n",
              "            <td>Cool♂</td>\n",
              "            <td>100</td>\n",
              "        </tr>\n",
              "        <tr>\n",
              "            <td>Cooltrainer♀ Floria</td>\n",
              "            <td>100</td>\n",
              "        </tr>\n",
              "        <tr>\n",
              "            <td>Cooltrainer♂ Marty</td>\n",
              "            <td>100</td>\n",
              "        </tr>\n",
              "        <tr>\n",
              "            <td>Cooltrainer♂ Forgon</td>\n",
              "            <td>100</td>\n",
              "        </tr>\n",
              "    </tbody>\n",
              "</table>"
            ]
          },
          "metadata": {},
          "execution_count": 15
        }
      ]
    },
    {
      "cell_type": "code",
      "source": [
        "##Q2\n",
        "%%sql\n",
        "SELECT Pokemon.pokename, Trainers.trainername\n",
        "FROM Pokemon\n",
        "JOIN Trainers ON Pokemon.trainerID = Trainers.trainerID\n",
        "WHERE Pokemon.pokename LIKE '%p%' AND Trainers.trainername LIKE '%a%'\n",
        "LIMIT 5"
      ],
      "metadata": {
        "colab": {
          "base_uri": "https://localhost:8080/",
          "height": 196
        },
        "id": "06rLh0bSvOMo",
        "outputId": "b7b34525-b581-4e84-9daa-e63e34668866"
      },
      "execution_count": null,
      "outputs": [
        {
          "output_type": "stream",
          "name": "stdout",
          "text": [
            "   sqlite:///database/database.sqlite\n",
            " * sqlite:///database_1/database.sqlite\n",
            "Done.\n"
          ]
        },
        {
          "output_type": "execute_result",
          "data": {
            "text/plain": [
              "[('Vileplume', 'Ace Duo Elina & Sean'),\n",
              " ('Weepinbell', 'Cooltrainer♀'),\n",
              " ('Persian', 'Cooltrainer♀'),\n",
              " ('Parasect', 'Cooltrainer♀'),\n",
              " ('Bellsprout', 'Cooltrainer♀')]"
            ],
            "text/html": [
              "<table>\n",
              "    <thead>\n",
              "        <tr>\n",
              "            <th>pokename</th>\n",
              "            <th>trainername</th>\n",
              "        </tr>\n",
              "    </thead>\n",
              "    <tbody>\n",
              "        <tr>\n",
              "            <td>Vileplume</td>\n",
              "            <td>Ace Duo Elina &amp; Sean</td>\n",
              "        </tr>\n",
              "        <tr>\n",
              "            <td>Weepinbell</td>\n",
              "            <td>Cooltrainer♀</td>\n",
              "        </tr>\n",
              "        <tr>\n",
              "            <td>Persian</td>\n",
              "            <td>Cooltrainer♀</td>\n",
              "        </tr>\n",
              "        <tr>\n",
              "            <td>Parasect</td>\n",
              "            <td>Cooltrainer♀</td>\n",
              "        </tr>\n",
              "        <tr>\n",
              "            <td>Bellsprout</td>\n",
              "            <td>Cooltrainer♀</td>\n",
              "        </tr>\n",
              "    </tbody>\n",
              "</table>"
            ]
          },
          "metadata": {},
          "execution_count": 16
        }
      ]
    },
    {
      "cell_type": "code",
      "source": [
        "##Q3\n",
        "%%sql\n",
        "SELECT Trainers.trainername, COUNT(Pokemon.trainerID) as num_pokemon\n",
        "FROM Pokemon\n",
        "JOIN Trainers ON Pokemon.trainerID = Trainers.trainerID\n",
        "GROUP BY Pokemon.trainerID\n",
        "ORDER BY num_pokemon DESC\n",
        "LIMIT 5"
      ],
      "metadata": {
        "colab": {
          "base_uri": "https://localhost:8080/",
          "height": 196
        },
        "id": "vg7O0SvSvSXG",
        "outputId": "0036114b-1328-4042-8863-96c5e7075ccb"
      },
      "execution_count": null,
      "outputs": [
        {
          "output_type": "stream",
          "name": "stdout",
          "text": [
            "   sqlite:///database/database.sqlite\n",
            " * sqlite:///database_1/database.sqlite\n",
            "Done.\n"
          ]
        },
        {
          "output_type": "execute_result",
          "data": {
            "text/plain": [
              "[('Youthful Couple River', 6),\n",
              " ('Youngster Wyatt', 6),\n",
              " ('Youngster Wyatt', 6),\n",
              " ('Youngster Wyatt', 6),\n",
              " ('Youngster Wyatt', 6)]"
            ],
            "text/html": [
              "<table>\n",
              "    <thead>\n",
              "        <tr>\n",
              "            <th>trainername</th>\n",
              "            <th>num_pokemon</th>\n",
              "        </tr>\n",
              "    </thead>\n",
              "    <tbody>\n",
              "        <tr>\n",
              "            <td>Youthful Couple River</td>\n",
              "            <td>6</td>\n",
              "        </tr>\n",
              "        <tr>\n",
              "            <td>Youngster Wyatt</td>\n",
              "            <td>6</td>\n",
              "        </tr>\n",
              "        <tr>\n",
              "            <td>Youngster Wyatt</td>\n",
              "            <td>6</td>\n",
              "        </tr>\n",
              "        <tr>\n",
              "            <td>Youngster Wyatt</td>\n",
              "            <td>6</td>\n",
              "        </tr>\n",
              "        <tr>\n",
              "            <td>Youngster Wyatt</td>\n",
              "            <td>6</td>\n",
              "        </tr>\n",
              "    </tbody>\n",
              "</table>"
            ]
          },
          "metadata": {},
          "execution_count": 17
        }
      ]
    },
    {
      "cell_type": "markdown",
      "source": [
        "# Part 3 - Titanic"
      ],
      "metadata": {
        "id": "qFN5Pq_O0TUk"
      }
    },
    {
      "cell_type": "code",
      "source": [
        "%sql sqlite:////content/titanic.db"
      ],
      "metadata": {
        "id": "h4B_efD81sUA"
      },
      "execution_count": null,
      "outputs": []
    },
    {
      "cell_type": "code",
      "source": [
        "##Q1\n",
        "%%sql\n",
        "SELECT COUNT(ticket)\n",
        "FROM titanic\n",
        "WHERE pclass=1 AND fare>50"
      ],
      "metadata": {
        "id": "w59Qn6Ty12kR",
        "outputId": "0e57d41a-a660-4eca-c3f3-726f8237e472",
        "colab": {
          "base_uri": "https://localhost:8080/",
          "height": 130
        }
      },
      "execution_count": null,
      "outputs": [
        {
          "output_type": "stream",
          "name": "stdout",
          "text": [
            " * sqlite:////content/titanic.db\n",
            "   sqlite:///database/database.sqlite\n",
            "   sqlite:///database_1/database.sqlite\n",
            "Done.\n"
          ]
        },
        {
          "output_type": "execute_result",
          "data": {
            "text/plain": [
              "[(209,)]"
            ],
            "text/html": [
              "<table>\n",
              "    <thead>\n",
              "        <tr>\n",
              "            <th>COUNT(ticket)</th>\n",
              "        </tr>\n",
              "    </thead>\n",
              "    <tbody>\n",
              "        <tr>\n",
              "            <td>209</td>\n",
              "        </tr>\n",
              "    </tbody>\n",
              "</table>"
            ]
          },
          "metadata": {},
          "execution_count": 19
        }
      ]
    },
    {
      "cell_type": "code",
      "source": [
        "##Q2\n",
        "%%sql\n",
        "SELECT t1.fare as fare1, t2.fare as fare2\n",
        "FROM titanic as t1 JOIN titanic as t2\n",
        "WHERE t1.pclass=1 AND t2.pclass=2 AND t1.fare<t2.fare AND t1.fare != 0\n",
        "ORDER BY t2.fare\n",
        "LIMIT 1"
      ],
      "metadata": {
        "id": "WKFXXZU-1v8h",
        "colab": {
          "base_uri": "https://localhost:8080/",
          "height": 130
        },
        "outputId": "0f0e34e0-d637-4dd9-8e14-50ceb98786a8"
      },
      "execution_count": null,
      "outputs": [
        {
          "output_type": "stream",
          "name": "stdout",
          "text": [
            " * sqlite:////content/titanic.db\n",
            "   sqlite:///database/database.sqlite\n",
            "   sqlite:///database_1/database.sqlite\n",
            "Done.\n"
          ]
        },
        {
          "output_type": "execute_result",
          "data": {
            "text/plain": [
              "[(5.0, 9.6875)]"
            ],
            "text/html": [
              "<table>\n",
              "    <thead>\n",
              "        <tr>\n",
              "            <th>fare1</th>\n",
              "            <th>fare2</th>\n",
              "        </tr>\n",
              "    </thead>\n",
              "    <tbody>\n",
              "        <tr>\n",
              "            <td>5.0</td>\n",
              "            <td>9.6875</td>\n",
              "        </tr>\n",
              "    </tbody>\n",
              "</table>"
            ]
          },
          "metadata": {},
          "execution_count": 20
        }
      ]
    },
    {
      "cell_type": "code",
      "source": [
        "##Q3\n",
        "%%sql\n",
        "SELECT COUNT(ticket)\n",
        "FROM titanic\n",
        "WHERE name like \"%Jack %\""
      ],
      "metadata": {
        "colab": {
          "base_uri": "https://localhost:8080/",
          "height": 130
        },
        "id": "U6wNJ5yb4qTJ",
        "outputId": "e847a312-2d70-48e9-eb01-92e7b58e1b87"
      },
      "execution_count": null,
      "outputs": [
        {
          "output_type": "stream",
          "name": "stdout",
          "text": [
            " * sqlite:////content/titanic.db\n",
            "   sqlite:///database/database.sqlite\n",
            "   sqlite:///database_1/database.sqlite\n",
            "Done.\n"
          ]
        },
        {
          "output_type": "execute_result",
          "data": {
            "text/plain": [
              "[(0,)]"
            ],
            "text/html": [
              "<table>\n",
              "    <thead>\n",
              "        <tr>\n",
              "            <th>COUNT(ticket)</th>\n",
              "        </tr>\n",
              "    </thead>\n",
              "    <tbody>\n",
              "        <tr>\n",
              "            <td>0</td>\n",
              "        </tr>\n",
              "    </tbody>\n",
              "</table>"
            ]
          },
          "metadata": {},
          "execution_count": 21
        }
      ]
    },
    {
      "cell_type": "code",
      "source": [
        "##Q4\n",
        "%%sql\n",
        "SELECT pclass, sex, COUNT(ticket) as \"total\", SUM(survived) as Survivors, SUM(survived) *100.0/ COUNT(ticket) AS Percentage\n",
        "FROM titanic\n",
        "GROUP BY pclass, sex"
      ],
      "metadata": {
        "colab": {
          "base_uri": "https://localhost:8080/",
          "height": 256
        },
        "id": "i8f0Dixs4rdX",
        "outputId": "d2b8e940-e9fe-48d8-f561-f8369323b123"
      },
      "execution_count": null,
      "outputs": [
        {
          "output_type": "stream",
          "name": "stdout",
          "text": [
            " * sqlite:////content/titanic.db\n",
            "   sqlite:///database/database.sqlite\n",
            "   sqlite:///database_1/database.sqlite\n",
            "Done.\n"
          ]
        },
        {
          "output_type": "execute_result",
          "data": {
            "text/plain": [
              "[(None, None, 0, None, None),\n",
              " (1, 'female', 144, 139, 96.52777777777777),\n",
              " (1, 'male', 179, 61, 34.07821229050279),\n",
              " (2, 'female', 106, 94, 88.67924528301887),\n",
              " (2, 'male', 171, 25, 14.619883040935672),\n",
              " (3, 'female', 216, 106, 49.074074074074076),\n",
              " (3, 'male', 493, 75, 15.212981744421906)]"
            ],
            "text/html": [
              "<table>\n",
              "    <thead>\n",
              "        <tr>\n",
              "            <th>pclass</th>\n",
              "            <th>sex</th>\n",
              "            <th>total</th>\n",
              "            <th>Survivors</th>\n",
              "            <th>Percentage</th>\n",
              "        </tr>\n",
              "    </thead>\n",
              "    <tbody>\n",
              "        <tr>\n",
              "            <td>None</td>\n",
              "            <td>None</td>\n",
              "            <td>0</td>\n",
              "            <td>None</td>\n",
              "            <td>None</td>\n",
              "        </tr>\n",
              "        <tr>\n",
              "            <td>1</td>\n",
              "            <td>female</td>\n",
              "            <td>144</td>\n",
              "            <td>139</td>\n",
              "            <td>96.52777777777777</td>\n",
              "        </tr>\n",
              "        <tr>\n",
              "            <td>1</td>\n",
              "            <td>male</td>\n",
              "            <td>179</td>\n",
              "            <td>61</td>\n",
              "            <td>34.07821229050279</td>\n",
              "        </tr>\n",
              "        <tr>\n",
              "            <td>2</td>\n",
              "            <td>female</td>\n",
              "            <td>106</td>\n",
              "            <td>94</td>\n",
              "            <td>88.67924528301887</td>\n",
              "        </tr>\n",
              "        <tr>\n",
              "            <td>2</td>\n",
              "            <td>male</td>\n",
              "            <td>171</td>\n",
              "            <td>25</td>\n",
              "            <td>14.619883040935672</td>\n",
              "        </tr>\n",
              "        <tr>\n",
              "            <td>3</td>\n",
              "            <td>female</td>\n",
              "            <td>216</td>\n",
              "            <td>106</td>\n",
              "            <td>49.074074074074076</td>\n",
              "        </tr>\n",
              "        <tr>\n",
              "            <td>3</td>\n",
              "            <td>male</td>\n",
              "            <td>493</td>\n",
              "            <td>75</td>\n",
              "            <td>15.212981744421906</td>\n",
              "        </tr>\n",
              "    </tbody>\n",
              "</table>"
            ]
          },
          "metadata": {},
          "execution_count": 22
        }
      ]
    },
    {
      "cell_type": "markdown",
      "source": [
        "# Part 4 - ERD"
      ],
      "metadata": {
        "id": "uTmmqcxktnAw"
      }
    },
    {
      "cell_type": "markdown",
      "source": [
        "![a.drawio (1).png](data:image/png;base64,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)"
      ],
      "metadata": {
        "id": "H73CR889D_vT"
      }
    }
  ]
}